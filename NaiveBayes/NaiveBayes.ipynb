{
 "cells": [
  {
   "cell_type": "code",
   "execution_count": 9,
   "metadata": {},
   "outputs": [],
   "source": [
    "import pandas as pd\n",
    "import numpy as np\n",
    "from sklearn.model_selection import train_test_split\n",
    "from sklearn.naive_bayes import GaussianNB,MultinomialNB\n",
    "from sklearn.metrics import accuracy_score,confusion_matrix\n",
    "from sklearn.preprocessing import LabelEncoder"
   ]
  },
  {
   "cell_type": "code",
   "execution_count": 10,
   "metadata": {},
   "outputs": [],
   "source": [
    "df=pd.read_csv(\"drug200.csv\")"
   ]
  },
  {
   "cell_type": "code",
   "execution_count": 11,
   "metadata": {},
   "outputs": [
    {
     "name": "stdout",
     "output_type": "stream",
     "text": [
      "   Age  Sex  BP  Cholesterol  Na_to_K  Drug\n",
      "0    8    0   0            0      167     0\n",
      "1   30    1   1            0       89     3\n",
      "2   30    1   1            0       43     3\n",
      "3   12    0   2            0       10     4\n",
      "4   44    0   1            0      133     0\n"
     ]
    }
   ],
   "source": [
    "label_encoder = LabelEncoder()\n",
    "\n",
    "for col in df.columns:\n",
    "  df[col]=label_encoder.fit_transform(df[col])\n",
    "\n",
    "print(df.head())"
   ]
  },
  {
   "cell_type": "code",
   "execution_count": 12,
   "metadata": {},
   "outputs": [],
   "source": [
    "X_data = df.iloc[:,:-1].values\n",
    "Y_data = df.iloc[:,-1].values\n",
    "x_train,x_test,y_train,y_test = train_test_split(X_data,Y_data,test_size=0.1,random_state=1)"
   ]
  },
  {
   "cell_type": "code",
   "execution_count": 13,
   "metadata": {},
   "outputs": [],
   "source": [
    "#fitting into model\n",
    "g_nb_model=GaussianNB()\n",
    "m_nb_model=MultinomialNB()\n",
    "g_nb_model.fit(x_train,y_train)\n",
    "m_nb_model.fit(x_train,y_train)\n",
    "#predictions\n",
    "y_pred_g = g_nb_model.predict(x_test)\n",
    "y_pred_m = m_nb_model.predict(x_test)"
   ]
  },
  {
   "cell_type": "code",
   "execution_count": 14,
   "metadata": {},
   "outputs": [],
   "source": [
    "# confusion matrix\n",
    "c_g=confusion_matrix(y_test,y_pred_g)\n",
    "c_m=confusion_matrix(y_test,y_pred_m)"
   ]
  },
  {
   "cell_type": "code",
   "execution_count": 15,
   "metadata": {},
   "outputs": [
    {
     "name": "stdout",
     "output_type": "stream",
     "text": [
      "\n",
      "gausian\n",
      "PRECISION : 50.0%\n",
      "RECALL : 100.0%\n",
      "ACCURACY : 75.0%\n",
      "\n",
      "multinomial\n",
      "PRECISION : 50.0%\n",
      "RECALL : 100.0%\n",
      "ACCURACY : 87.5%\n"
     ]
    }
   ],
   "source": [
    "#metrixs\n",
    "print(\"\\ngausian\")\n",
    "pre=c_g[1][1]/(c_g[1][1]+c_g[0][1])\n",
    "re=c_g[1][1]/(c_g[1][1]+c_g[1][0])\n",
    "ac=(c_g[1][1]+c_g[0][0])/(c_g[1][1]+c_g[0][0]+c_g[1][0]+c_g[0][1])\n",
    "print(f\"PRECISION : {pre*100}%\")\n",
    "print(f\"RECALL : {re*100}%\")\n",
    "print(f\"ACCURACY : {ac*100}%\")\n",
    "\n",
    "print(\"\\nmultinomial\")\n",
    "pre=c_m[1][1]/(c_m[1][1]+c_m[0][1])\n",
    "re=c_m[1][1]/(c_m[1][1]+c_m[1][0])\n",
    "ac=(c_m[1][1]+c_m[0][0])/(c_m[1][1]+c_m[0][0]+c_m[1][0]+c_m[0][1])\n",
    "print(f\"PRECISION : {pre*100}%\")\n",
    "print(f\"RECALL : {re*100}%\")\n",
    "print(f\"ACCURACY : {ac*100}%\")"
   ]
  }
 ],
 "metadata": {
  "kernelspec": {
   "display_name": "Python 3",
   "language": "python",
   "name": "python3"
  },
  "language_info": {
   "codemirror_mode": {
    "name": "ipython",
    "version": 3
   },
   "file_extension": ".py",
   "mimetype": "text/x-python",
   "name": "python",
   "nbconvert_exporter": "python",
   "pygments_lexer": "ipython3",
   "version": "3.10.4"
  }
 },
 "nbformat": 4,
 "nbformat_minor": 2
}
