{
 "cells": [
  {
   "cell_type": "markdown",
   "metadata": {},
   "source": [
    "# Linear Regression By Farhan(2307) "
   ]
  },
  {
   "cell_type": "markdown",
   "metadata": {},
   "source": [
    "### Importing Required Libraries"
   ]
  },
  {
   "cell_type": "code",
   "execution_count": null,
   "metadata": {},
   "outputs": [],
   "source": [
    "import pandas as pd\n",
    "import numpy as np\n",
    "import matplotlib.pyplot as plt \n",
    "from sklearn.metrics import mean_absolute_error,mean_squared_error,r2_score\n",
    "from sklearn.model_selection import train_test_split\n",
    "from sklearn.linear_model import Lasso,Ridge,LinearRegression\n",
    "from sklearn.preprocessing import PolynomialFeatures"
   ]
  },
  {
   "cell_type": "markdown",
   "metadata": {},
   "source": [
    "### CSV Reading"
   ]
  },
  {
   "cell_type": "code",
   "execution_count": null,
   "metadata": {},
   "outputs": [],
   "source": [
    "data=pd.read_csv(\"LR.csv\")"
   ]
  },
  {
   "cell_type": "markdown",
   "metadata": {},
   "source": [
    "### Data Splitting"
   ]
  },
  {
   "cell_type": "code",
   "execution_count": null,
   "metadata": {},
   "outputs": [],
   "source": [
    "x_data=data.iloc[:,0]\n",
    "y_data=data.iloc[:,1]\n",
    "x,x_test,y,y_test=train_test_split(x_data,y_data,test_size=0.05)"
   ]
  },
  {
   "cell_type": "markdown",
   "metadata": {},
   "source": [
    "### Metrics Function"
   ]
  },
  {
   "cell_type": "code",
   "execution_count": null,
   "metadata": {},
   "outputs": [],
   "source": [
    "def metrics(y,y_p):\n",
    "    mse=mean_squared_error(y,y_p)\n",
    "    rmse=np.sqrt(mse)\n",
    "    mae=mean_absolute_error(y,y_p)\n",
    "    r2score=r2_score(y,y_p)\n",
    "    print(\"root mean square error: \",rmse)\n",
    "    print(\"mean absolute error: \",mae)\n",
    "    print(\"R2_Score: \",r2score)"
   ]
  },
  {
   "cell_type": "markdown",
   "metadata": {},
   "source": [
    "### Curve Fitting"
   ]
  },
  {
   "cell_type": "code",
   "execution_count": null,
   "metadata": {},
   "outputs": [],
   "source": [
    "#CurveFitting\n",
    "x_m=x.mean()\n",
    "y_m=y.mean()\n",
    "m=sum((x-x_m)*(y-y_m))/sum((x-x_m)**2)\n",
    "c=y_m-m*x_m\n",
    "y_cf=m*x_test+c\n",
    "metrics(y_test,y_cf)\n",
    "mm=m\n",
    "cc=c"
   ]
  },
  {
   "cell_type": "markdown",
   "metadata": {},
   "source": [
    "### Gradient Decent"
   ]
  },
  {
   "cell_type": "code",
   "execution_count": null,
   "metadata": {},
   "outputs": [],
   "source": [
    "#gradient decent\n",
    "m=0\n",
    "c=0\n",
    "l=0.001\n",
    "n=len(x)\n",
    "for i in range(100000):\n",
    "    _y=m*x+c\n",
    "    de_m=(-2/n)*sum(x*(y-_y))\n",
    "    de_c=(-2/n)*sum(y-_y)\n",
    "    m=m-l*de_m\n",
    "    c=c-l*de_c\n",
    "y_gd=m*x_test+c\n",
    "metrics(y_test,y_gd)\n"
   ]
  },
  {
   "cell_type": "markdown",
   "metadata": {},
   "source": [
    "### Lasso"
   ]
  },
  {
   "cell_type": "code",
   "execution_count": null,
   "metadata": {},
   "outputs": [],
   "source": [
    "#Lasso\n",
    "LassoR=Lasso(alpha=0.1)\n",
    "LassoR.fit(np.array(x_data).reshape(-1,1),np.array(y_data).reshape(-1,1))\n",
    "y_ls=LassoR.predict(np.array(x_test).reshape(-1,1))\n",
    "metrics(y_test,y_ls)"
   ]
  },
  {
   "cell_type": "markdown",
   "metadata": {},
   "source": [
    "### Ridge"
   ]
  },
  {
   "cell_type": "code",
   "execution_count": null,
   "metadata": {},
   "outputs": [],
   "source": [
    "#Ridge\n",
    "RidgeR=Ridge(alpha=0.1)\n",
    "RidgeR.fit(np.array(x_data).reshape(-1,1),np.array(y_data).reshape(-1,1))\n",
    "y_rd=RidgeR.predict(np.array(x_test).reshape(-1,1))\n",
    "metrics(y_test,y_rd)"
   ]
  },
  {
   "cell_type": "markdown",
   "metadata": {},
   "source": [
    "### Polynomial Degree 2"
   ]
  },
  {
   "cell_type": "code",
   "execution_count": null,
   "metadata": {},
   "outputs": [],
   "source": [
    "#polinomial\n",
    "polyfeature=PolynomialFeatures(degree=2,include_bias=False)\n",
    "x_p=polyfeature.fit_transform(np.array(x_data).reshape(-1,1))\n",
    "LP=LinearRegression()\n",
    "LP.fit(x_p,y_data)\n",
    "x_tp=polyfeature.fit_transform(np.array(x_test).reshape(-1,1))\n",
    "y_pl2=LP.predict(x_tp)\n",
    "metrics(y_test,y_pl2)"
   ]
  },
  {
   "cell_type": "markdown",
   "metadata": {},
   "source": [
    "### Plot"
   ]
  },
  {
   "cell_type": "code",
   "execution_count": null,
   "metadata": {},
   "outputs": [],
   "source": [
    "#plotting\n",
    "plt.scatter(x_data,y_data)\n",
    "plt.plot([min(x_data),max(x_data)],[min(x_data)*mm+cc,max(x_data)*mm+cc],color='red')\n",
    "plt.show()"
   ]
  }
 ],
 "metadata": {
  "kernelspec": {
   "display_name": "Python 3",
   "language": "python",
   "name": "python3"
  },
  "language_info": {
   "codemirror_mode": {
    "name": "ipython",
    "version": 3
   },
   "file_extension": ".py",
   "mimetype": "text/x-python",
   "name": "python",
   "nbconvert_exporter": "python",
   "pygments_lexer": "ipython3",
   "version": "3.10.4"
  }
 },
 "nbformat": 4,
 "nbformat_minor": 2
}
